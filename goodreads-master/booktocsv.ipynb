{
 "cells": [
  {
   "cell_type": "code",
   "execution_count": 5,
   "metadata": {
    "scrolled": true
   },
   "outputs": [],
   "source": [
    "import pickle\n",
    "import os\n",
    "from goodreads import client\n",
    "import re\n",
    "import matplotlib.pyplot as plt\n",
    "import requests\n",
    "import xmltodict\n",
    "%matplotlib inline\n"
   ]
  },
  {
   "cell_type": "code",
   "execution_count": 6,
   "metadata": {},
   "outputs": [],
   "source": [
    "devkey_fn = 'secret_goodreads_credentials.pkl'\n",
    "if not os.path.exists(devkey_fn):\n",
    "    Goodreads = {}\n",
    "    Goodreads['key'] = '25UElCdddczzptosxP02A', # Your developer Key\n",
    "    Goodreads['secret'] ='vS49d7kp103sI6JiusUmPWVoHkT0tt3Q57P1Oa46QM'  # Your developer secret         \n",
    "    \n",
    "    with open(devkey_fn, 'wb') as f:\n",
    "        pickle.dump(Goodreads, f)\n",
    "else:\n",
    "    Goodreads = pickle.load(open(devkey_fn, 'rb'));\n"
   ]
  },
  {
   "cell_type": "code",
   "execution_count": 7,
   "metadata": {},
   "outputs": [],
   "source": [
    "gc = client.GoodreadsClient(Goodreads['key'], Goodreads['secret'])\n"
   ]
  },
  {
   "cell_type": "code",
   "execution_count": 8,
   "metadata": {},
   "outputs": [],
   "source": [
    "books = []\n",
    "for i in range(1, 20):\n",
    "    books.append(i)\n",
    "    book = gc.book(i)\n",
    "\n",
    "\n",
    "for i in range(21, 40):\n",
    "    books.append(i)\n",
    "    book = gc.book(i)\n",
    "    \n",
    "\n"
   ]
  },
  {
   "cell_type": "code",
   "execution_count": 9,
   "metadata": {},
   "outputs": [],
   "source": [
    "for i in range(50, 61):\n",
    "    books.append(i)\n",
    "    book = gc.book(i)"
   ]
  },
  {
   "cell_type": "code",
   "execution_count": 10,
   "metadata": {},
   "outputs": [],
   "source": [
    "for i in range(65, 150):\n",
    "    books.append(i)\n",
    "    book = gc.book(i)"
   ]
  },
  {
   "cell_type": "code",
   "execution_count": 11,
   "metadata": {},
   "outputs": [],
   "source": [
    "for i in range(156, 169):\n",
    "    books.append(i)\n",
    "    book = gc.book(i)\n"
   ]
  },
  {
   "cell_type": "code",
   "execution_count": 12,
   "metadata": {},
   "outputs": [],
   "source": [
    "for i in range(170, 173):\n",
    "    books.append(i)\n",
    "    book = gc.book(i)"
   ]
  },
  {
   "cell_type": "code",
   "execution_count": 13,
   "metadata": {},
   "outputs": [],
   "source": [
    "for i in range(174, 187):\n",
    "    books.append(i)\n",
    "    book = gc.book(i)"
   ]
  },
  {
   "cell_type": "code",
   "execution_count": 14,
   "metadata": {},
   "outputs": [],
   "source": [
    "for i in range(188, 199):\n",
    "    books.append(i)\n",
    "    book = gc.book(i)"
   ]
  },
  {
   "cell_type": "code",
   "execution_count": 15,
   "metadata": {},
   "outputs": [],
   "source": [
    "for i in range(200, 211):\n",
    "    books.append(i)\n",
    "    book = gc.book(i)"
   ]
  },
  {
   "cell_type": "code",
   "execution_count": 16,
   "metadata": {},
   "outputs": [],
   "source": [
    "for i in range(212, 220):\n",
    "    books.append(i)\n",
    "    book = gc.book(i)"
   ]
  },
  {
   "cell_type": "code",
   "execution_count": 17,
   "metadata": {},
   "outputs": [],
   "source": [
    "for i in range(230, 233):\n",
    "    books.append(i)\n",
    "    book = gc.book(i)"
   ]
  },
  {
   "cell_type": "code",
   "execution_count": 18,
   "metadata": {},
   "outputs": [],
   "source": [
    "for i in range(236, 270):\n",
    "    books.append(i)\n",
    "    book = gc.book(i)"
   ]
  },
  {
   "cell_type": "code",
   "execution_count": 19,
   "metadata": {},
   "outputs": [
    {
     "name": "stdout",
     "output_type": "stream",
     "text": [
      "trying to write into csv\n",
      "wrote index 269 into csv file\n"
     ]
    }
   ],
   "source": [
    "import csv\n",
    "HEADERS = ['gid', \"title\", \"authors[0]\", \"average_rating\", \"description\",\n",
    "               'num_pages', 'publication_date']\n",
    "with open('books.csv', 'w', encoding=\"utf-8\") as csvfile:\n",
    "    csv_writer = csv.writer(csvfile)\n",
    "    csv_writer.writerow(HEADERS)\n",
    "    print('trying to write into csv')\n",
    "    authors = []\n",
    "    tracker_authors = []\n",
    "    for index in books:\n",
    "        book = gc.book(index)\n",
    "        if (book.num_pages == None or book.description == None):\n",
    "            continue\n",
    "        profile = []\n",
    "        profile.append(index)\n",
    "        profile.append(book.title)\n",
    "        profile.append(book.authors[0])\n",
    "        if ((str(book.authors[0])) not in tracker_authors):\n",
    "            tracker_authors.append(str(book.authors[0]))\n",
    "            authors.append(book.authors[0])\n",
    "        profile.append(book.average_rating)\n",
    "        profile.append(book.description)  \n",
    "        profile.append(book.num_pages)\n",
    "        profile.append(book.publication_date)\n",
    "        csv_writer.writerow(profile)\n",
    "    print('wrote index', index, 'into csv file')\n",
    "        "
   ]
  },
  {
   "cell_type": "code",
   "execution_count": null,
   "metadata": {},
   "outputs": [
    {
     "name": "stdout",
     "output_type": "stream",
     "text": [
      "trying to write into csv again\n",
      "wrote index 269 into csv file\n",
      "wrote index 269 into csv file\n",
      "wrote index 269 into csv file\n",
      "wrote index 269 into csv file\n",
      "wrote index 269 into csv file\n",
      "wrote index 269 into csv file\n",
      "wrote index 269 into csv file\n",
      "wrote index 269 into csv file\n",
      "wrote index 269 into csv file\n",
      "wrote index 269 into csv file\n",
      "wrote index 269 into csv file\n",
      "wrote index 269 into csv file\n",
      "wrote index 269 into csv file\n",
      "wrote index 269 into csv file\n",
      "wrote index 269 into csv file\n",
      "wrote index 269 into csv file\n",
      "wrote index 269 into csv file\n",
      "wrote index 269 into csv file\n",
      "wrote index 269 into csv file\n",
      "wrote index 269 into csv file\n",
      "wrote index 269 into csv file\n",
      "wrote index 269 into csv file\n",
      "wrote index 269 into csv file\n",
      "wrote index 269 into csv file\n",
      "wrote index 269 into csv file\n",
      "wrote index 269 into csv file\n",
      "wrote index 269 into csv file\n",
      "wrote index 269 into csv file\n",
      "wrote index 269 into csv file\n",
      "wrote index 269 into csv file\n",
      "wrote index 269 into csv file\n",
      "wrote index 269 into csv file\n",
      "wrote index 269 into csv file\n",
      "wrote index 269 into csv file\n",
      "wrote index 269 into csv file\n",
      "wrote index 269 into csv file\n",
      "wrote index 269 into csv file\n",
      "wrote index 269 into csv file\n",
      "wrote index 269 into csv file\n",
      "wrote index 269 into csv file\n",
      "wrote index 269 into csv file\n",
      "wrote index 269 into csv file\n",
      "wrote index 269 into csv file\n",
      "wrote index 269 into csv file\n",
      "wrote index 269 into csv file\n",
      "wrote index 269 into csv file\n",
      "wrote index 269 into csv file\n",
      "wrote index 269 into csv file\n",
      "wrote index 269 into csv file\n",
      "wrote index 269 into csv file\n",
      "wrote index 269 into csv file\n",
      "wrote index 269 into csv file\n",
      "wrote index 269 into csv file\n",
      "wrote index 269 into csv file\n",
      "wrote index 269 into csv file\n",
      "wrote index 269 into csv file\n",
      "wrote index 269 into csv file\n",
      "wrote index 269 into csv file\n",
      "wrote index 269 into csv file\n",
      "wrote index 269 into csv file\n",
      "wrote index 269 into csv file\n",
      "wrote index 269 into csv file\n",
      "wrote index 269 into csv file\n",
      "wrote index 269 into csv file\n",
      "wrote index 269 into csv file\n",
      "wrote index 269 into csv file\n",
      "wrote index 269 into csv file\n",
      "wrote index 269 into csv file\n",
      "wrote index 269 into csv file\n",
      "wrote index 269 into csv file\n",
      "wrote index 269 into csv file\n",
      "wrote index 269 into csv file\n",
      "wrote index 269 into csv file\n",
      "wrote index 269 into csv file\n",
      "wrote index 269 into csv file\n",
      "wrote index 269 into csv file\n",
      "wrote index 269 into csv file\n"
     ]
    }
   ],
   "source": [
    "import csv\n",
    "HEADERS = [\"name\", \"works_count\"]\n",
    "with open('authors.csv', 'w', encoding=\"utf-8\") as csvfile:\n",
    "    csv_writer = csv.writer(csvfile)\n",
    "    csv_writer.writerow(HEADERS)\n",
    "    print('trying to write into csv again')\n",
    "\n",
    "    for curr_author in authors:\n",
    "        profile = []\n",
    "        author = gc.find_author(curr_author.name)\n",
    "        profile.append(author.name)\n",
    "        profile.append(author.works_count)\n",
    "        csv_writer.writerow(profile)\n",
    "        print('wrote index', index, 'into csv file')\n",
    "   \n",
    "    "
   ]
  },
  {
   "cell_type": "code",
   "execution_count": 24,
   "metadata": {},
   "outputs": [
    {
     "name": "stdout",
     "output_type": "stream",
     "text": [
      "[J.K. Rowling, W. Frederick Zimmerman, Douglas Adams, Bill Bryson, J.R.R. Tolkien, Chris   Smith, Jude Fisher, Gary Paulsen, Donna Ickes, Molly Hatchet, Dale Peck, Bud Cheff Sr., Angela Knight, Delia Sherman, Patricia A. McKillip, Elaine Cunningham, Philippa Carr, Edward P. Jones, Satyajit Das, Mark Smylie, John McPhee, Wendy Wasserstein, Heidi Hayes Jacobs, Heidi Boyd, Heidi Baker, Johanna Spyri, Heidi Betts, Rolland Baker, Heidi Murkoff, Heidi Fleiss, Heidi W. Boehringer, Frank Herbert, Brian Herbert, James Van Hise, Gary Russell, Susan E. Tifft, Bryce Courtenay, Dennis Brindell Fradin, Francis Frangipane, John C. Maxwell, Dave Lakhani, Louis E. Catron, Adam Ginsberg, Marsha Collier, Debra Schepp, Chris Malta, Julia Wilkinson, Lucas Carlson, Ruby Ann Boxcar, Ruby Banks-Payne, Rob Orsini, Ruby Le Bois, Leo Tolstoy, Gloria Goldreich, Anthony Thorlby, Mulk Raj Anand, John Banville, Eliot Ness, Narendra Jadhav, V.T. Rajshekar, Oliver Mendelsohn, Vasant Moon, Peter Achinstein, Barry R. Cournoyer, John Carratello, George Smoot, Madeleine L'Engle, Tara MacCarthy, Valerie Metcalf Estoye, Anne Troy, James      Scott, Cynthia Harrod-Eagles, Charles Todd, Christopher Waldrep, Ewan McGregor, Daniel Abraham, Erna Paris, Charles Willeford, Tom Wolfe, Edward Lear, Quentin Blake, Henry Miller, Matthew Carmona, Charles A. Coulombe, Sian Phillips, Calvin Morrill, Mark C. Childs, F. Belton Joyner Jr., Braiden Rex-Johnson, Malcolm Miles, Henry James, Lyn Cowan]\n"
     ]
    }
   ],
   "source": [
    "print(authors)"
   ]
  }
 ],
 "metadata": {
  "kernelspec": {
   "display_name": "Python 3",
   "language": "python",
   "name": "python3"
  },
  "language_info": {
   "codemirror_mode": {
    "name": "ipython",
    "version": 3
   },
   "file_extension": ".py",
   "mimetype": "text/x-python",
   "name": "python",
   "nbconvert_exporter": "python",
   "pygments_lexer": "ipython3",
   "version": "3.7.1"
  }
 },
 "nbformat": 4,
 "nbformat_minor": 2
}
